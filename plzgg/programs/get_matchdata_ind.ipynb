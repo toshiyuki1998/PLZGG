{
 "cells": [
  {
   "cell_type": "code",
   "execution_count": 1,
   "metadata": {},
   "outputs": [],
   "source": [
    "import os\n",
    "import time, datetime\n",
    "import config\n",
    "import connection_tools\n",
    "from riotwatcher import LolWatcher, ApiError\n",
    "import pandas as pd\n",
    "import json"
   ]
  },
  {
   "cell_type": "code",
   "execution_count": 2,
   "metadata": {},
   "outputs": [],
   "source": [
    "lol_watcher = LolWatcher(os.getenv('RIOT_TOKEN'))\n",
    "region = \"jp1\"\n",
    "large_region = \"ASIA\"\n",
    "season_start = 1637625600\n",
    "season_end = \"\"\n",
    "queue = \"RANKED_SOLO_5x5\"\n",
    "queue_id = 420"
   ]
  },
  {
   "cell_type": "code",
   "execution_count": 3,
   "metadata": {},
   "outputs": [],
   "source": [
    "match_list = []\n",
    "summonerName = \"THBlade\"\n",
    "championName = \"Kaisa\"\n",
    "puuid = lol_watcher.summoner.by_name(region, summonerName)[\"puuid\"]\n",
    "match_list+=lol_watcher.match.matchlist_by_puuid(region=large_region, puuid=puuid, queue=queue_id, start_time=season_start)"
   ]
  },
  {
   "cell_type": "code",
   "execution_count": 4,
   "metadata": {},
   "outputs": [],
   "source": [
    "match_list_champion = []\n",
    "for match_id in match_list:\n",
    "    match_info = lol_watcher.match.by_id(region=large_region, match_id=match_id)\n",
    "    participants = match_info[\"info\"][\"participants\"]\n",
    "    for participant in participants:\n",
    "        if (participant[\"summonerName\"]==summonerName)&(participant[\"championName\"]==championName):\n",
    "            match_list_champion.append(match_id)\n"
   ]
  },
  {
   "cell_type": "code",
   "execution_count": null,
   "metadata": {},
   "outputs": [],
   "source": []
  }
 ],
 "metadata": {
  "interpreter": {
   "hash": "be819a52dbdc41fca48d7e40bffff07042d3a7188ed48347d84634c6703c9fcf"
  },
  "kernelspec": {
   "display_name": "Python 3.8.5 64-bit ('base': conda)",
   "language": "python",
   "name": "python3"
  },
  "language_info": {
   "codemirror_mode": {
    "name": "ipython",
    "version": 3
   },
   "file_extension": ".py",
   "mimetype": "text/x-python",
   "name": "python",
   "nbconvert_exporter": "python",
   "pygments_lexer": "ipython3",
   "version": "3.8.5"
  },
  "orig_nbformat": 4
 },
 "nbformat": 4,
 "nbformat_minor": 2
}

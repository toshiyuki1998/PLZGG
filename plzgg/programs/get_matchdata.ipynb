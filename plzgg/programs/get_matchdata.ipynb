{
 "cells": [
  {
   "cell_type": "code",
   "execution_count": 1,
   "metadata": {},
   "outputs": [],
   "source": [
    "import os\n",
    "import time, datetime\n",
    "import config\n",
    "import connection_tools\n",
    "from riotwatcher import LolWatcher, ApiError\n",
    "import pandas as pd\n",
    "import json"
   ]
  },
  {
   "cell_type": "code",
   "execution_count": 2,
   "metadata": {},
   "outputs": [],
   "source": [
    "connection = connection_tools.connect_db()\n",
    "cur = connection.cursor()"
   ]
  },
  {
   "cell_type": "code",
   "execution_count": 3,
   "metadata": {},
   "outputs": [],
   "source": [
    "lol_watcher = LolWatcher(os.getenv('RIOT_TOKEN'))\n",
    "region = \"jp1\"\n",
    "large_region = \"ASIA\"\n",
    "season_start = 1637625600\n",
    "season_end = \"\"\n",
    "queue = \"RANKED_SOLO_5x5\"\n",
    "queue_id = 420"
   ]
  },
  {
   "cell_type": "code",
   "execution_count": 4,
   "metadata": {},
   "outputs": [],
   "source": [
    "match_list = []\n",
    "\n",
    "#Challenger\n",
    "summoners = lol_watcher.league.challenger_by_queue(region, queue)[\"entries\"]\n",
    "for summoner in summoners:\n",
    "    summonerName = summoner[\"summonerName\"]\n",
    "    try:\n",
    "        puuid = lol_watcher.summoner.by_name(region, summonerName)[\"puuid\"]\n",
    "        match_list+=lol_watcher.match.matchlist_by_puuid(region=large_region, puuid=puuid, queue=queue_id, start_time=season_start)\n",
    "    except:\n",
    "        continue\n",
    "    time.sleep(2)\n",
    "\n",
    "#Grandmaster\n",
    "summoners = lol_watcher.league.grandmaster_by_queue(region, queue)[\"entries\"]\n",
    "for summoner in summoners:\n",
    "    summonerName = summoner[\"summonerName\"]\n",
    "    try:\n",
    "        puuid = lol_watcher.summoner.by_name(region, summonerName)[\"puuid\"]\n",
    "        match_list+=lol_watcher.match.matchlist_by_puuid(region=large_region, puuid=puuid, queue=queue_id, start_time=season_start)\n",
    "    except:\n",
    "        continue\n",
    "    time.sleep(2)\n",
    "\n",
    "#Master\n",
    "summoners = lol_watcher.league.masters_by_queue(region, queue)[\"entries\"]\n",
    "for summoner in summoners:\n",
    "    summonerName = summoner[\"summonerName\"]\n",
    "    try:\n",
    "        puuid = lol_watcher.summoner.by_name(region, summonerName)[\"puuid\"]\n",
    "        match_list+=lol_watcher.match.matchlist_by_puuid(region=large_region, puuid=puuid, queue=queue_id, start_time=season_start)\n",
    "    except:\n",
    "        continue\n",
    "    time.sleep(2)\n",
    "\n",
    "match_list = set(match_list)"
   ]
  },
  {
   "cell_type": "code",
   "execution_count": 5,
   "metadata": {},
   "outputs": [],
   "source": [
    "match_list_old = []\n",
    "cur.execute(\"select match_id from match_data\")\n",
    "for c in cur:\n",
    "    match_list_old.append(c[0])\n",
    "\n",
    "for match_id in match_list:\n",
    "    if match_id not in match_list_old:\n",
    "        match_info = lol_watcher.match.by_id(region=large_region, match_id=match_id)\n",
    "        time.sleep(2)\n",
    "        match_ready = match_info[\"info\"][\"teams\"]\n",
    "        match_result = pd.DataFrame(match_info[\"info\"][\"participants\"])\n",
    "        match_timeline = lol_watcher.match.timeline_by_match(region=large_region, match_id=match_id)\n",
    "        time.sleep(2)\n",
    "        match_date = match_info[\"info\"][\"gameCreation\"]\n",
    "        match_champions = \"\"\n",
    "        for champion in match_result[\"championName\"]:\n",
    "            match_champions += \"'\" + champion + \"', \"\n",
    "        match_champions = match_champions[:-2]\n",
    "        match_version = match_info[\"info\"][\"gameVersion\"]\n",
    "        cur.execute(\"insert into match_data values ('%s', %s, '%s', '%s', '%s', '%s', '%s', %s);\" % (match_id, match_date, match_version, large_region, region, json.dumps(match_info), json.dumps(match_timeline), match_champions))\n",
    "    connection.commit()"
   ]
  },
  {
   "cell_type": "code",
   "execution_count": null,
   "metadata": {},
   "outputs": [
    {
     "ename": "NameError",
     "evalue": "name 'match_timeline' is not defined",
     "output_type": "error",
     "traceback": [
      "\u001b[1;31m---------------------------------------------------------------------------\u001b[0m",
      "\u001b[1;31mNameError\u001b[0m                                 Traceback (most recent call last)",
      "\u001b[1;32m<ipython-input-19-2832a3955bb4>\u001b[0m in \u001b[0;36m<module>\u001b[1;34m\u001b[0m\n\u001b[0;32m      2\u001b[0m \u001b[0mmatch_result\u001b[0m \u001b[1;33m=\u001b[0m \u001b[0mpd\u001b[0m\u001b[1;33m.\u001b[0m\u001b[0mDataFrame\u001b[0m\u001b[1;33m(\u001b[0m\u001b[0mmatch_info\u001b[0m\u001b[1;33m[\u001b[0m\u001b[1;34m\"info\"\u001b[0m\u001b[1;33m]\u001b[0m\u001b[1;33m[\u001b[0m\u001b[1;34m\"participants\"\u001b[0m\u001b[1;33m]\u001b[0m\u001b[1;33m)\u001b[0m\u001b[1;33m\u001b[0m\u001b[1;33m\u001b[0m\u001b[0m\n\u001b[0;32m      3\u001b[0m \u001b[1;33m\u001b[0m\u001b[0m\n\u001b[1;32m----> 4\u001b[1;33m \u001b[0mmatch_players\u001b[0m \u001b[1;33m=\u001b[0m \u001b[0mpd\u001b[0m\u001b[1;33m.\u001b[0m\u001b[0mmerge\u001b[0m\u001b[1;33m(\u001b[0m\u001b[0mpd\u001b[0m\u001b[1;33m.\u001b[0m\u001b[0mDataFrame\u001b[0m\u001b[1;33m(\u001b[0m\u001b[0mmatch_timeline\u001b[0m\u001b[1;33m[\u001b[0m\u001b[1;34m\"info\"\u001b[0m\u001b[1;33m]\u001b[0m\u001b[1;33m[\u001b[0m\u001b[1;34m\"participants\"\u001b[0m\u001b[1;33m]\u001b[0m\u001b[1;33m)\u001b[0m\u001b[1;33m,\u001b[0m \u001b[0mmatch_result\u001b[0m\u001b[1;33m[\u001b[0m\u001b[1;33m[\u001b[0m\u001b[1;34m\"participantId\"\u001b[0m\u001b[1;33m,\u001b[0m \u001b[1;34m\"puuid\"\u001b[0m\u001b[1;33m]\u001b[0m\u001b[1;33m]\u001b[0m\u001b[1;33m,\u001b[0m \u001b[0msuffixes\u001b[0m\u001b[1;33m=\u001b[0m\u001b[1;33m[\u001b[0m\u001b[1;34m\"_timeline\"\u001b[0m\u001b[1;33m,\u001b[0m \u001b[1;34m\"_result\"\u001b[0m\u001b[1;33m]\u001b[0m\u001b[1;33m,\u001b[0m \u001b[0mon\u001b[0m\u001b[1;33m=\u001b[0m\u001b[1;34m\"puuid\"\u001b[0m\u001b[1;33m)\u001b[0m\u001b[1;33m\u001b[0m\u001b[1;33m\u001b[0m\u001b[0m\n\u001b[0m\u001b[0;32m      5\u001b[0m \u001b[0mmatch_info2\u001b[0m \u001b[1;33m=\u001b[0m \u001b[0mmatch_info\u001b[0m\u001b[1;33m[\u001b[0m\u001b[1;34m\"info\"\u001b[0m\u001b[1;33m]\u001b[0m\u001b[1;33m.\u001b[0m\u001b[0mcopy\u001b[0m\u001b[1;33m(\u001b[0m\u001b[1;33m)\u001b[0m\u001b[1;33m\u001b[0m\u001b[1;33m\u001b[0m\u001b[0m\n\u001b[0;32m      6\u001b[0m \u001b[1;32mfor\u001b[0m \u001b[0mc\u001b[0m \u001b[1;32min\u001b[0m \u001b[1;33m[\u001b[0m\u001b[1;34m\"participants\"\u001b[0m\u001b[1;33m,\u001b[0m \u001b[1;34m\"teams\"\u001b[0m\u001b[1;33m]\u001b[0m\u001b[1;33m:\u001b[0m\u001b[1;33m\u001b[0m\u001b[1;33m\u001b[0m\u001b[0m\n",
      "\u001b[1;31mNameError\u001b[0m: name 'match_timeline' is not defined"
     ]
    }
   ],
   "source": [
    "match_result = pd.DataFrame(match_info[\"info\"][\"participants\"])\n",
    "match_players = pd.merge(pd.DataFrame(match_timeline[\"info\"][\"participants\"]), match_result[[\"participantId\", \"puuid\"]], suffixes=[\"_timeline\", \"_result\"], on=\"puuid\")\n",
    "match_info2 = match_info[\"info\"].copy()\n",
    "for c in [\"participants\", \"teams\"]:\n",
    "    match_info2.pop(c)"
   ]
  },
  {
   "cell_type": "code",
   "execution_count": null,
   "metadata": {},
   "outputs": [],
   "source": [
    "game_events = [[] for x in range(21)]\n",
    "frames = match_timeline[\"info\"][\"frames\"]\n",
    "for frame in frames[1:-1]:\n",
    "    events = frame[\"events\"]\n",
    "    for event in events:\n",
    "        if \"participantId\" in list(event.keys()):\n",
    "            playerId = event[\"participantId\"]\n",
    "            game_events[playerId].append(event)\n",
    "        \n",
    "        elif \"creatorId\" in list(event.keys()):\n",
    "            playerId = event[\"creatorId\"]\n",
    "            game_events[playerId].append(event)\n",
    "        \n",
    "        else:\n",
    "            game_events[0].append(event)"
   ]
  },
  {
   "cell_type": "code",
   "execution_count": null,
   "metadata": {},
   "outputs": [],
   "source": [
    "types = []\n",
    "for frame in frames[1:-1]:\n",
    "    events = frame[\"events\"]\n",
    "    for event in events:\n",
    "        types.append(event[\"type\"])"
   ]
  }
 ],
 "metadata": {
  "interpreter": {
   "hash": "be819a52dbdc41fca48d7e40bffff07042d3a7188ed48347d84634c6703c9fcf"
  },
  "kernelspec": {
   "display_name": "Python 3.8.5 64-bit ('base': conda)",
   "language": "python",
   "name": "python3"
  },
  "language_info": {
   "codemirror_mode": {
    "name": "ipython",
    "version": 3
   },
   "file_extension": ".py",
   "mimetype": "text/x-python",
   "name": "python",
   "nbconvert_exporter": "python",
   "pygments_lexer": "ipython3",
   "version": "3.8.5"
  },
  "orig_nbformat": 4
 },
 "nbformat": 4,
 "nbformat_minor": 2
}
